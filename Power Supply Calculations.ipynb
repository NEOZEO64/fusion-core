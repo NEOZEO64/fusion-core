{
 "cells": [
  {
   "cell_type": "code",
   "execution_count": 2,
   "metadata": {},
   "outputs": [
    {
     "name": "stdout",
     "output_type": "stream",
     "text": [
      "A =  0.06\n",
      "P =  0.72\n"
     ]
    }
   ],
   "source": [
    "rs = 1000 # ohm\n",
    "rsParallel = 200 # ohm\n",
    "\n",
    "V = 12 # volts\n",
    "\n",
    "A = V / rsParallel\n",
    "\n",
    "P = V * A\n",
    "\n",
    "print(\"A = \", A)\n",
    "print(\"P = \", P)"
   ]
  }
 ],
 "metadata": {
  "kernelspec": {
   "display_name": "Python 3",
   "language": "python",
   "name": "python3"
  },
  "language_info": {
   "codemirror_mode": {
    "name": "ipython",
    "version": 3
   },
   "file_extension": ".py",
   "mimetype": "text/x-python",
   "name": "python",
   "nbconvert_exporter": "python",
   "pygments_lexer": "ipython3",
   "version": "3.12.3"
  }
 },
 "nbformat": 4,
 "nbformat_minor": 2
}
